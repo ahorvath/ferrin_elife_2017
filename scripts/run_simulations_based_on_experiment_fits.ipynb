{
 "cells": [
  {
   "cell_type": "markdown",
   "metadata": {
    "deletable": true,
    "editable": true
   },
   "source": [
    "# Simulation Runs 3 – 16 based on experiment fits\n",
    "\n",
    "<div id=\"toc-wrapper\"><h3> Table of Contents </h3><div id=\"toc\" style=\"max-height: 787px;\"><ol class=\"toc-item\"><li><a href=\"#Run-3:-Predict-YFP-synthesis-rate-of-initiation-mutants-based-on-fit-of-stall-strengths-to-single-mutant-data-(for-Fig-4,-Fig.-4-supplement-1A–G)\">Run 3: Predict YFP synthesis rate of initiation mutants based on fit of stall strengths to single mutant data (for Fig 4, Fig. 4 supplement 1A–G)</a></li><li><a href=\"#Run-4:-Predict-YFP-synthesis-rate-of-CTC,-CTT-double-mutants-based-on-fit-of-stall-strengths-to-single-mutant-data-(for-Fig.-5-figure-supplement-1A,-1B)\">Run 4: Predict YFP synthesis rate of CTC, CTT double mutants based on fit of stall strengths to single mutant data (for Fig. 5 figure supplement 1A, 1B)</a></li><li><a href=\"#Run-5:-Predict-YFP-synthesis-rate-of-CTC-distance-mutants-based-on-fit-of-stall-strengths-to-single-mutant-data-(for-Fig.-6-figure-supplement-1)\">Run 5: Predict YFP synthesis rate of CTC distance mutants based on fit of stall strengths to single mutant data (for Fig. 6 figure supplement 1)</a></li><li><a href=\"#Run-14:-Predict-YFP-synthesis-rate-of-serine-initiation-mutants-based-on-fit-of-stall-strengths-to-single-mutant-data-(for-Fig.-4-supplement-1H)\">Run 14: Predict YFP synthesis rate of serine initiation mutants based on fit of stall strengths to single mutant data (for Fig. 4 supplement 1H)</a></li><li><a href=\"#Run-15:-Predict-YFP-synthesis-rate-of-serine-double-mutants-based-on-fit-of-stall-strengths-to-single-mutant-data-(for-Fig.-5-figure-supplement-1C)\">Run 15: Predict YFP synthesis rate of serine double mutants based on fit of stall strengths to single mutant data (for Fig. 5 figure supplement 1C)</a></li><li><a href=\"#Run-16:-Predict-YFP-synthesis-rate-of-CTA-multiple-mutants-based-on-fit-of-stall-strengths-to-single-mutant-data-(for-Fig.-5)\">Run 16: Predict YFP synthesis rate of CTA multiple mutants based on fit of stall strengths to single mutant data (for Fig. 5)</a></li><li><a href=\"#Run-6:-Vary-initiation-rate-systematically-for-3-different-models-(for-Fig.-3A)\">Run 6: Vary initiation rate systematically for 3 different models (for Fig. 3A)</a></li><li><a href=\"#Run-7:-Vary-number-of-stall-sites-systematically-for-3-different-models-(for-Fig.-3B)\">Run 7: Vary number of stall sites systematically for 3 different models (for Fig. 3B)</a></li><li><a href=\"#Run-8:-Vary-distance-between-stall-sites-systematically-for-3-different-models-(for-Fig.-3C)\">Run 8: Vary distance between stall sites systematically for 3 different models (for Fig. 3C)</a></li><li><a href=\"#Run-9-:-Vary-abortive-termination-rate-systematically-for-3-different-models-(for-Fig.-7)\">Run 9 : Vary abortive termination rate systematically for 3 different models (for Fig. 7)</a></li><li><a href=\"#Run-11:-Predict-YFP-synthesis-rate-of-CTA-distance-mutants-based-on-fit-of-stall-strengths-to-single-mutant-data-(for-Fig.-6)\">Run 11: Predict YFP synthesis rate of CTA distance mutants based on fit of stall strengths to single mutant data (for Fig. 6)</a></li></ol></div></div>"
   ]
  },
  {
   "cell_type": "markdown",
   "metadata": {
    "deletable": true,
    "editable": true
   },
   "source": [
    "### Run 3: Predict YFP synthesis rate of initiation mutants based on fit of stall strengths to single mutant data (for Fig 4, Fig. 4 supplement 1A–G)"
   ]
  },
  {
   "cell_type": "code",
   "execution_count": 4,
   "metadata": {
    "collapsed": false,
    "deletable": true,
    "editable": true
   },
   "outputs": [
    {
     "name": "stdout",
     "output_type": "stream",
     "text": [
      "Overwriting simulation_run_3.py\n"
     ]
    }
   ],
   "source": [
    "%%writefile simulation_run_3.py\n",
    "#!/usr/bin/env python\n",
    "#SBATCH --mem=8000\n",
    "\n",
    "import subprocess as sp\n",
    "import os\n",
    "import sys\n",
    "\n",
    "jobindex = int(sys.argv[1])\n",
    "currentindex = -1\n",
    "\n",
    "mrnafiles = filter(lambda x: x.startswith('yfp'), os.listdir('../annotations/simulations/run3/'))\n",
    "mrnafiles = ['../annotations/simulations/run3/' + File for File in mrnafiles]\n",
    "\n",
    "terminationandStallStrengths = [\n",
    "    ('--5prime-preterm-rate',0,'../processeddata/simulations/run3_stallstrengthfits_trafficjam.tsv'),\n",
    "    ('--5prime-preterm-rate',1,'../processeddata/simulations/run3_stallstrengthfits_5primepreterm.tsv'),\n",
    "    ('--selective-preterm-rate',1,'../processeddata/simulations/run3_stallstrengthfits_selpreterm.tsv'),\n",
    "        ]\n",
    "\n",
    "for mrnafile in mrnafiles:\n",
    "    currentindex += 1\n",
    "    if currentindex != jobindex:\n",
    "        continue\n",
    "    for typeOfTermination, terminationRate, stallstrengthfile in terminationandStallStrengths:\n",
    "        cmd = ' '.join([\n",
    "                './reporter_simulation',            \n",
    "                '--trna-concn', '../annotations/simulations/leucine.starvation.average.trna.concentrations.tsv',               \n",
    "                typeOfTermination, \n",
    "                    '%0.2g'%terminationRate,\n",
    "                '--threshold-accommodation-rate', '22',\n",
    "                '--output-prefix','../rawdata/simulations/run3/',\n",
    "                '--stall-strength-file', stallstrengthfile,\n",
    "                '--input-genes', mrnafile\n",
    "                ])\n",
    "        sp.check_output(cmd, shell=True)  "
   ]
  },
  {
   "cell_type": "code",
   "execution_count": 5,
   "metadata": {
    "collapsed": false,
    "deletable": true,
    "editable": true
   },
   "outputs": [],
   "source": [
    "import subprocess as sp\n",
    "# loop submits each simulation to a different node of the cluster\n",
    "for index in range(40):\n",
    "    sp.check_output([\n",
    "        'sbatch', # for SLURM cluster; this line can be commented out if running locally\n",
    "        '-t', '30', # for SLURM cluster; this line can be commented out if running locally\n",
    "        '-n', '1', # for SLURM cluster; this line can be commented out if running locally\n",
    "        'simulation_run_3.py',\n",
    "        str(index)\n",
    "    ])"
   ]
  },
  {
   "cell_type": "markdown",
   "metadata": {
    "deletable": true,
    "editable": true
   },
   "source": [
    "### Run 4: Predict YFP synthesis rate of CTC, CTT double mutants based on fit of stall strengths to single mutant data (for Fig. 5 figure supplement 1A, 1B)"
   ]
  },
  {
   "cell_type": "code",
   "execution_count": 6,
   "metadata": {
    "collapsed": false,
    "deletable": true,
    "editable": true
   },
   "outputs": [
    {
     "name": "stdout",
     "output_type": "stream",
     "text": [
      "Writing simulation_run_4.py\n"
     ]
    }
   ],
   "source": [
    "%%writefile simulation_run_4.py\n",
    "#!/usr/bin/env python\n",
    "#SBATCH --mem=8000\n",
    "\n",
    "import subprocess as sp\n",
    "import os\n",
    "import sys\n",
    "\n",
    "jobindex = int(sys.argv[1])\n",
    "currentindex = -1\n",
    "\n",
    "mrnafiles = filter(lambda x: x.startswith('yfp'), os.listdir('../annotations/simulations/run4/'))\n",
    "mrnafiles = ['../annotations/simulations/run4/' + File for File in mrnafiles]\n",
    "\n",
    "terminationandStallStrengths = [\n",
    "    ('--5prime-preterm-rate',0,'../processeddata/simulations/run4_stallstrengthfits_trafficjam.tsv'),\n",
    "    ('--5prime-preterm-rate',1,'../processeddata/simulations/run4_stallstrengthfits_5primepreterm.tsv'),\n",
    "    ('--selective-preterm-rate',1,'../processeddata/simulations/run4_stallstrengthfits_selpreterm.tsv'),\n",
    "        ]\n",
    "\n",
    "for mrnafile in mrnafiles:\n",
    "    currentindex += 1\n",
    "    if currentindex != jobindex:\n",
    "        continue\n",
    "    for typeOfTermination, terminationRate, stallstrengthfile in terminationandStallStrengths:\n",
    "        cmd = ' '.join([\n",
    "                './reporter_simulation',\n",
    "                '--trna-concn', '../annotations/simulations/leucine.starvation.average.trna.concentrations.tsv',            \n",
    "                typeOfTermination, \n",
    "                    '%0.2g'%terminationRate,\n",
    "                '--threshold-accommodation-rate', '22',\n",
    "                '--output-prefix','../rawdata/simulations/run4/',\n",
    "                '--stall-strength-file', stallstrengthfile,\n",
    "                '--input-genes', mrnafile\n",
    "                ])\n",
    "        sp.check_output(cmd, shell=True)  "
   ]
  },
  {
   "cell_type": "code",
   "execution_count": 7,
   "metadata": {
    "collapsed": false,
    "deletable": true,
    "editable": true
   },
   "outputs": [],
   "source": [
    "import subprocess as sp\n",
    "# loop submits each simulation to a different node of the cluster\n",
    "for index in range(30):\n",
    "    sp.check_output([\n",
    "        'sbatch', # for SLURM cluster; this line can be commented out if running locally\n",
    "        '-t', '30', # for SLURM cluster; this line can be commented out if running locally\n",
    "        '-n', '1', # for SLURM cluster; this line can be commented out if running locally\n",
    "        'simulation_run_4.py',\n",
    "        str(index)\n",
    "    ])"
   ]
  },
  {
   "cell_type": "markdown",
   "metadata": {
    "deletable": true,
    "editable": true
   },
   "source": [
    "### Run 5: Predict YFP synthesis rate of CTC distance mutants based on fit of stall strengths to single mutant data (for Fig. 6 figure supplement 1)"
   ]
  },
  {
   "cell_type": "code",
   "execution_count": 9,
   "metadata": {
    "collapsed": false,
    "deletable": true,
    "editable": true
   },
   "outputs": [
    {
     "name": "stdout",
     "output_type": "stream",
     "text": [
      "Overwriting simulation_run_5.py\n"
     ]
    }
   ],
   "source": [
    "%%writefile simulation_run_5.py\n",
    "#!/usr/bin/env python\n",
    "#SBATCH --mem=8000\n",
    "\n",
    "import subprocess as sp\n",
    "import os\n",
    "import sys\n",
    "\n",
    "jobindex = int(sys.argv[1])\n",
    "currentindex = -1\n",
    "\n",
    "mrnafiles = filter(lambda x: x.startswith('yfp'), os.listdir('../annotations/simulations/run5/'))\n",
    "mrnafiles = ['../annotations/simulations/run5/' + File for File in mrnafiles]\n",
    "\n",
    "terminationandStallStrengths = [\n",
    "    ('--5prime-preterm-rate',0,'../processeddata/simulations/run5_stallstrengthfits_trafficjam.tsv'),\n",
    "    ('--5prime-preterm-rate',1,'../processeddata/simulations/run5_stallstrengthfits_5primepreterm.tsv'),\n",
    "    ('--selective-preterm-rate',1,'../processeddata/simulations/run5_stallstrengthfits_selpreterm.tsv'),\n",
    "        ]\n",
    "\n",
    "for mrnafile in mrnafiles:\n",
    "    currentindex += 1\n",
    "    if currentindex != jobindex:\n",
    "        continue\n",
    "    for typeOfTermination, terminationRate, stallstrengthfile in terminationandStallStrengths:\n",
    "        cmd = ' '.join([\n",
    "                './reporter_simulation',\n",
    "                '--trna-concn', '../annotations/simulations/leucine.starvation.average.trna.concentrations.tsv',\n",
    "                typeOfTermination, \n",
    "                    '%0.2g'%terminationRate,\n",
    "                '--threshold-accommodation-rate', '22',\n",
    "                '--output-prefix','../rawdata/simulations/run5/',\n",
    "                '--stall-strength-file', stallstrengthfile,\n",
    "                '--input-genes', mrnafile\n",
    "                ])\n",
    "        sp.check_output(cmd, shell=True)  "
   ]
  },
  {
   "cell_type": "code",
   "execution_count": 10,
   "metadata": {
    "collapsed": true,
    "deletable": true,
    "editable": true
   },
   "outputs": [],
   "source": [
    "import subprocess as sp\n",
    "# loop submits each simulation to a different node of the cluster\n",
    "for index in range(20):\n",
    "    sp.check_output([\n",
    "        'sbatch', # for SLURM cluster; this line can be commented out if running locally\n",
    "        '-t', '30', # for SLURM cluster; this line can be commented out if running locally\n",
    "        '-n', '1', # for SLURM cluster; this line can be commented out if running locally\n",
    "        'simulation_run_5.py',\n",
    "        str(index)\n",
    "    ])"
   ]
  },
  {
   "cell_type": "markdown",
   "metadata": {},
   "source": [
    "### Run 14: Predict YFP synthesis rate of serine initiation mutants based on fit of stall strengths to single mutant data (for Fig. 4 supplement 1H)"
   ]
  },
  {
   "cell_type": "code",
   "execution_count": 11,
   "metadata": {
    "collapsed": false
   },
   "outputs": [
    {
     "name": "stdout",
     "output_type": "stream",
     "text": [
      "Writing simulation_run_14.py\n"
     ]
    }
   ],
   "source": [
    "%%writefile simulation_run_14.py\n",
    "#!/usr/bin/env python\n",
    "#SBATCH --mem=8000\n",
    "\n",
    "import subprocess as sp\n",
    "import os\n",
    "import sys\n",
    "\n",
    "jobindex = int(sys.argv[1])\n",
    "currentindex = -1\n",
    "\n",
    "mrnafiles = filter(lambda x: x.startswith('yfp'), os.listdir('../annotations/simulations/run14/'))\n",
    "mrnafiles = ['../annotations/simulations/run14/' + File for File in mrnafiles]\n",
    "\n",
    "terminationandStallStrengths = [\n",
    "    ('--5prime-preterm-rate',0,'../processeddata/simulations/run14_stallstrengthfits_trafficjam.tsv'),\n",
    "    ('--5prime-preterm-rate',1,'../processeddata/simulations/run14_stallstrengthfits_5primepreterm.tsv'),\n",
    "    ('--selective-preterm-rate',1,'../processeddata/simulations/run14_stallstrengthfits_selpreterm.tsv'),\n",
    "        ]\n",
    "\n",
    "for mrnafile in mrnafiles:\n",
    "    currentindex += 1\n",
    "    if currentindex != jobindex:\n",
    "        continue\n",
    "    for typeOfTermination, terminationRate, stallstrengthfile in terminationandStallStrengths:\n",
    "        cmd = ' '.join([\n",
    "                './reporter_simulation',            \n",
    "                '--trna-concn', '../annotations/simulations/serine.starvation.average.trna.concentrations.tsv',               \n",
    "                typeOfTermination, \n",
    "                    '%0.2g'%terminationRate,\n",
    "                '--threshold-accommodation-rate', '22',\n",
    "                '--output-prefix','../rawdata/simulations/run14/',\n",
    "                '--stall-strength-file', stallstrengthfile,\n",
    "                '--input-genes', mrnafile\n",
    "                ])\n",
    "        sp.check_output(cmd, shell=True)  "
   ]
  },
  {
   "cell_type": "code",
   "execution_count": 12,
   "metadata": {
    "collapsed": true
   },
   "outputs": [],
   "source": [
    "import subprocess as sp\n",
    "# loop submits each simulation to a different node of the cluster\n",
    "for index in range(15):\n",
    "    sp.check_output([\n",
    "        'sbatch', # for SLURM cluster; this line can be commented out if running locally\n",
    "        '-t', '30', # for SLURM cluster; this line can be commented out if running locally\n",
    "        '-n', '1', # for SLURM cluster; this line can be commented out if running locally\n",
    "        'simulation_run_14.py',\n",
    "        str(index)\n",
    "    ])"
   ]
  },
  {
   "cell_type": "markdown",
   "metadata": {},
   "source": [
    "### Run 15: Predict YFP synthesis rate of serine double mutants based on fit of stall strengths to single mutant data (for Fig. 5 figure supplement 1C)"
   ]
  },
  {
   "cell_type": "code",
   "execution_count": 14,
   "metadata": {
    "collapsed": false
   },
   "outputs": [
    {
     "name": "stdout",
     "output_type": "stream",
     "text": [
      "Overwriting simulation_run_15.py\n"
     ]
    }
   ],
   "source": [
    "%%writefile simulation_run_15.py\n",
    "#!/usr/bin/env python\n",
    "#SBATCH --mem=8000\n",
    "\n",
    "import subprocess as sp\n",
    "import os\n",
    "import sys\n",
    "\n",
    "jobindex = int(sys.argv[1])\n",
    "\n",
    "currentindex = -1\n",
    "\n",
    "\n",
    "mrnafiles = filter(lambda x: x.startswith('yfp'), os.listdir('../annotations/simulations/run15/'))\n",
    "mrnafiles = ['../annotations/simulations/run15/' + File for File in mrnafiles]\n",
    "\n",
    "terminationandStallStrengths = [\n",
    "    ('--5prime-preterm-rate',0,'../processeddata/simulations/run15_stallstrengthfits_trafficjam.tsv'),\n",
    "    ('--5prime-preterm-rate',1,'../processeddata/simulations/run15_stallstrengthfits_5primepreterm.tsv'),\n",
    "    ('--selective-preterm-rate',1,'../processeddata/simulations/run15_stallstrengthfits_selpreterm.tsv'),\n",
    "        ]\n",
    "\n",
    "for mrnafile in mrnafiles:\n",
    "    currentindex += 1\n",
    "    if currentindex != jobindex:\n",
    "        continue\n",
    "    for typeOfTermination, terminationRate, stallstrengthfile in terminationandStallStrengths:\n",
    "        cmd = ' '.join([\n",
    "                './reporter_simulation',\n",
    "                '--trna-concn', '../annotations/simulations/serine.starvation.average.trna.concentrations.tsv',            \n",
    "                typeOfTermination, \n",
    "                    '%0.2g'%terminationRate,\n",
    "                '--threshold-accommodation-rate', '22',\n",
    "                '--output-prefix','../rawdata/simulations/run15/',\n",
    "                '--stall-strength-file', stallstrengthfile,\n",
    "                '--input-genes', mrnafile\n",
    "                ])\n",
    "        sp.check_output(cmd, shell=True)  "
   ]
  },
  {
   "cell_type": "code",
   "execution_count": 15,
   "metadata": {
    "collapsed": true
   },
   "outputs": [],
   "source": [
    "import subprocess as sp\n",
    "# loop submits each simulation to a different node of the cluster\n",
    "for index in range(15):\n",
    "    sp.check_output([\n",
    "        'sbatch', # for SLURM cluster; this line can be commented out if running locally\n",
    "        '-t', '30', # for SLURM cluster; this line can be commented out if running locally\n",
    "        '-n', '1', # for SLURM cluster; this line can be commented out if running locally\n",
    "        'simulation_run_15.py',\n",
    "        str(index)\n",
    "    ])"
   ]
  },
  {
   "cell_type": "markdown",
   "metadata": {},
   "source": [
    "### Run 16: Predict YFP synthesis rate of CTA multiple mutants based on fit of stall strengths to single mutant data (for Fig. 5)"
   ]
  },
  {
   "cell_type": "code",
   "execution_count": 16,
   "metadata": {
    "collapsed": false
   },
   "outputs": [
    {
     "name": "stdout",
     "output_type": "stream",
     "text": [
      "Writing simulation_run_16.py\n"
     ]
    }
   ],
   "source": [
    "%%writefile simulation_run_16.py\n",
    "#!/usr/bin/env python\n",
    "#SBATCH --mem=8000\n",
    "\n",
    "import subprocess as sp\n",
    "import os\n",
    "import sys\n",
    "\n",
    "jobindex = int(sys.argv[1])\n",
    "currentindex = -1\n",
    "\n",
    "mrnafiles = filter(lambda x: x.startswith('yfp'), os.listdir('../annotations/simulations/run16/'))\n",
    "mrnafiles = ['../annotations/simulations/run16/' + File for File in mrnafiles]\n",
    "\n",
    "terminationandStallStrengths = [\n",
    "    ('--5prime-preterm-rate',0,'../processeddata/simulations/run16_stallstrengthfits_trafficjam.tsv'),\n",
    "    ('--5prime-preterm-rate',1,'../processeddata/simulations/run16_stallstrengthfits_5primepreterm.tsv'),\n",
    "    ('--selective-preterm-rate',1,'../processeddata/simulations/run16_stallstrengthfits_selpreterm.tsv'),\n",
    "        ]\n",
    "\n",
    "for mrnafile in mrnafiles:\n",
    "    currentindex += 1\n",
    "    if currentindex != jobindex:\n",
    "        continue\n",
    "    for typeOfTermination, terminationRate, stallstrengthfile in terminationandStallStrengths:\n",
    "        cmd = ' '.join([\n",
    "                './reporter_simulation',\n",
    "                '--trna-concn', '../annotations/simulations/leucine.starvation.average.trna.concentrations.tsv',            \n",
    "                typeOfTermination, \n",
    "                    '%0.2g'%terminationRate,\n",
    "                '--threshold-accommodation-rate', '22',\n",
    "                '--output-prefix','../rawdata/simulations/run16/',\n",
    "                '--stall-strength-file', stallstrengthfile,\n",
    "                '--input-genes', mrnafile\n",
    "                ])\n",
    "        sp.check_output(cmd, shell=True)  "
   ]
  },
  {
   "cell_type": "code",
   "execution_count": 17,
   "metadata": {
    "collapsed": true
   },
   "outputs": [],
   "source": [
    "import subprocess as sp\n",
    "# loop submits each simulation to a different node of the cluster\n",
    "for index in range(18):\n",
    "    sp.check_output([\n",
    "        'sbatch', # for SLURM cluster; this line can be commented out if running locally\n",
    "        '-t', '30', # for SLURM cluster; this line can be commented out if running locally\n",
    "        '-n', '1', # for SLURM cluster; this line can be commented out if running locally\n",
    "        'simulation_run_16.py',\n",
    "        str(index)\n",
    "    ])"
   ]
  },
  {
   "cell_type": "markdown",
   "metadata": {
    "deletable": true,
    "editable": true
   },
   "source": [
    "### Run 6: Vary initiation rate systematically for 3 different models (for Fig. 3A)"
   ]
  },
  {
   "cell_type": "code",
   "execution_count": 18,
   "metadata": {
    "collapsed": false,
    "deletable": true,
    "editable": true
   },
   "outputs": [
    {
     "name": "stdout",
     "output_type": "stream",
     "text": [
      "Writing simulation_run_6.py\n"
     ]
    }
   ],
   "source": [
    "%%writefile simulation_run_6.py\n",
    "#!/usr/bin/env python\n",
    "#SBATCH --mem=8000\n",
    "\n",
    "import subprocess as sp\n",
    "import os\n",
    "import sys\n",
    "\n",
    "jobindex = int(sys.argv[1])\n",
    "currentindex = -1\n",
    "\n",
    "mrnafiles = filter(lambda x: x.startswith('yfp'), os.listdir('../annotations/simulations/run6/'))\n",
    "mrnafiles = ['../annotations/simulations/run6/' + File for File in mrnafiles]\n",
    "\n",
    "terminationandStallStrengths = [\n",
    "    ('--5prime-preterm-rate',0,'../processeddata/simulations/runs678_stallstrengthfits_trafficjam.tsv'),\n",
    "    ('--5prime-preterm-rate',1,'../processeddata/simulations/runs678_stallstrengthfits_5primepreterm.tsv'),\n",
    "    ('--selective-preterm-rate',1,'../processeddata/simulations/runs678_stallstrengthfits_selpreterm.tsv'),\n",
    "        ]\n",
    "\n",
    "for mrnafile in mrnafiles:\n",
    "    currentindex += 1\n",
    "    if currentindex != jobindex:\n",
    "        continue\n",
    "    for typeOfTermination, terminationRate, stallstrengthfile in terminationandStallStrengths:\n",
    "        cmd = ' '.join([\n",
    "                './reporter_simulation',\n",
    "                '--trna-concn', '../annotations/simulations/leucine.starvation.average.trna.concentrations.tsv',\n",
    "                typeOfTermination, \n",
    "                    '%0.2g'%terminationRate,\n",
    "                '--threshold-accommodation-rate', '22',\n",
    "                '--output-prefix','../rawdata/simulations/run6/',\n",
    "                '--stall-strength-file', stallstrengthfile,\n",
    "                '--input-genes', mrnafile\n",
    "                ])\n",
    "        sp.check_output(cmd, shell=True)  "
   ]
  },
  {
   "cell_type": "code",
   "execution_count": 19,
   "metadata": {
    "collapsed": true,
    "deletable": true,
    "editable": true
   },
   "outputs": [],
   "source": [
    "import subprocess as sp\n",
    "# loop submits each simulation to a different node of the cluster\n",
    "for index in range(8):\n",
    "    sp.check_output([\n",
    "        'sbatch', # for SLURM cluster; this line can be commented out if running locally\n",
    "        '-t', '10', # for SLURM cluster; this line can be commented out if running locally\n",
    "        '-n', '1', # for SLURM cluster; this line can be commented out if running locally\n",
    "        'simulation_run_6.py',\n",
    "        str(index)\n",
    "    ])"
   ]
  },
  {
   "cell_type": "markdown",
   "metadata": {
    "deletable": true,
    "editable": true
   },
   "source": [
    "### Run 7: Vary number of stall sites systematically for 3 different models (for Fig. 3B)"
   ]
  },
  {
   "cell_type": "code",
   "execution_count": 20,
   "metadata": {
    "collapsed": false,
    "deletable": true,
    "editable": true
   },
   "outputs": [
    {
     "name": "stdout",
     "output_type": "stream",
     "text": [
      "Writing simulation_run_7.py\n"
     ]
    }
   ],
   "source": [
    "%%writefile simulation_run_7.py\n",
    "#!/usr/bin/env python\n",
    "#SBATCH --mem=8000\n",
    "\n",
    "import subprocess as sp\n",
    "import os\n",
    "import sys\n",
    "\n",
    "jobindex = int(sys.argv[1])\n",
    "currentindex = -1\n",
    "\n",
    "mrnafiles = filter(lambda x: x.startswith('yfp'), os.listdir('../annotations/simulations/run7/'))\n",
    "mrnafiles = ['../annotations/simulations/run7/' + File for File in mrnafiles]\n",
    "\n",
    "terminationandStallStrengths = [\n",
    "    ('--5prime-preterm-rate',0,'../processeddata/simulations/runs678_stallstrengthfits_trafficjam.tsv'),\n",
    "    ('--5prime-preterm-rate',1,'../processeddata/simulations/runs678_stallstrengthfits_5primepreterm.tsv'),\n",
    "    ('--selective-preterm-rate',1,'../processeddata/simulations/runs678_stallstrengthfits_selpreterm.tsv'),\n",
    "        ]\n",
    "\n",
    "for mrnafile in mrnafiles:\n",
    "    currentindex += 1\n",
    "    if currentindex != jobindex:\n",
    "        continue\n",
    "    for typeOfTermination, terminationRate, stallstrengthfile in terminationandStallStrengths:\n",
    "        cmd = ' '.join([\n",
    "                './reporter_simulation',\n",
    "                '--trna-concn', '../annotations/simulations/leucine.starvation.average.trna.concentrations.tsv',\n",
    "                typeOfTermination, \n",
    "                    '%0.2g'%terminationRate,\n",
    "                '--threshold-accommodation-rate', '22',\n",
    "                '--output-prefix','../rawdata/simulations/run7/',\n",
    "                '--stall-strength-file', stallstrengthfile,\n",
    "                '--input-genes', mrnafile\n",
    "                ])\n",
    "        sp.check_output(cmd, shell=True)  "
   ]
  },
  {
   "cell_type": "code",
   "execution_count": 21,
   "metadata": {
    "collapsed": false,
    "deletable": true,
    "editable": true
   },
   "outputs": [],
   "source": [
    "import subprocess as sp\n",
    "# loop submits each simulation to a different node of the cluster\n",
    "for index in range(9):\n",
    "    sp.check_output([\n",
    "        'sbatch', # for SLURM cluster; this line can be commented out if running locally\n",
    "        '-t', '30', # for SLURM cluster; this line can be commented out if running locally\n",
    "        '-n', '1', # for SLURM cluster; this line can be commented out if running locally\n",
    "        'simulation_run_7.py',\n",
    "        str(index)\n",
    "    ])"
   ]
  },
  {
   "cell_type": "markdown",
   "metadata": {
    "deletable": true,
    "editable": true
   },
   "source": [
    "### Run 8: Vary distance between stall sites systematically for 3 different models (for Fig. 3C)"
   ]
  },
  {
   "cell_type": "code",
   "execution_count": 23,
   "metadata": {
    "collapsed": false,
    "deletable": true,
    "editable": true
   },
   "outputs": [
    {
     "name": "stdout",
     "output_type": "stream",
     "text": [
      "Overwriting simulation_run_8.py\n"
     ]
    }
   ],
   "source": [
    "%%writefile simulation_run_8.py\n",
    "#!/usr/bin/env python\n",
    "#SBATCH --mem=8000\n",
    "\n",
    "import subprocess as sp\n",
    "import os\n",
    "import sys\n",
    "\n",
    "jobindex = int(sys.argv[1])\n",
    "currentindex = -1\n",
    "\n",
    "mrnafiles = filter(lambda x: x.startswith('yfp'), os.listdir('../annotations/simulations/run8/'))\n",
    "mrnafiles = ['../annotations/simulations/run8/' + File for File in mrnafiles]\n",
    "\n",
    "terminationandStallStrengths = [\n",
    "    ('--5prime-preterm-rate',0,'../processeddata/simulations/runs678_stallstrengthfits_trafficjam.tsv'),\n",
    "    ('--5prime-preterm-rate',1,'../processeddata/simulations/runs678_stallstrengthfits_5primepreterm.tsv'),\n",
    "    ('--selective-preterm-rate',1,'../processeddata/simulations/runs678_stallstrengthfits_selpreterm.tsv'),\n",
    "        ]\n",
    "\n",
    "for mrnafile in mrnafiles:\n",
    "    currentindex += 1\n",
    "    if currentindex != jobindex:\n",
    "        continue\n",
    "    for typeOfTermination, terminationRate, stallstrengthfile in terminationandStallStrengths:\n",
    "        cmd = ' '.join([\n",
    "                './reporter_simulation',\n",
    "                '--trna-concn', '../annotations/simulations/leucine.starvation.average.trna.concentrations.tsv',\n",
    "                typeOfTermination, \n",
    "                    '%0.2g'%terminationRate,\n",
    "                '--threshold-accommodation-rate', '22',\n",
    "                '--output-prefix','../rawdata/simulations/run8/',\n",
    "                '--stall-strength-file', stallstrengthfile,\n",
    "                '--input-genes', mrnafile\n",
    "                ])\n",
    "        sp.check_output(cmd, shell=True)  "
   ]
  },
  {
   "cell_type": "code",
   "execution_count": 24,
   "metadata": {
    "collapsed": true,
    "deletable": true,
    "editable": true
   },
   "outputs": [],
   "source": [
    "import subprocess as sp\n",
    "# loop submits each simulation to a different node of the cluster\n",
    "for index in range(238):\n",
    "    sp.check_output([\n",
    "        'sbatch', # for SLURM cluster; this line can be commented out if running locally\n",
    "        '-t', '10', # for SLURM cluster; this line can be commented out if running locally\n",
    "        '-n', '1', # for SLURM cluster; this line can be commented out if running locally\n",
    "        'simulation_run_8.py',\n",
    "        str(index)\n",
    "    ])"
   ]
  },
  {
   "cell_type": "markdown",
   "metadata": {
    "deletable": true,
    "editable": true
   },
   "source": [
    "### Run 9 : Vary abortive termination rate systematically for 3 different models (for Fig. 7)"
   ]
  },
  {
   "cell_type": "code",
   "execution_count": 26,
   "metadata": {
    "collapsed": false,
    "deletable": true,
    "editable": true
   },
   "outputs": [
    {
     "name": "stdout",
     "output_type": "stream",
     "text": [
      "Overwriting simulation_run_9.py\n"
     ]
    }
   ],
   "source": [
    "%%writefile simulation_run_9.py\n",
    "#!/usr/bin/env python\n",
    "#SBATCH --mem=8000\n",
    "\n",
    "import subprocess as sp\n",
    "import os\n",
    "import sys\n",
    "import numpy as np\n",
    "\n",
    "jobindex = int(sys.argv[1])\n",
    "currentindex = -1\n",
    "\n",
    "mrnafiles = ['../annotations/simulations/run4/yfp_cta18_initiationrate_0.3.csv']\n",
    "\n",
    "# use experimental fits for stall strengths from run 4\n",
    "terminationandStallStrengths = [\n",
    "    ('--5prime-preterm-rate','../processeddata/simulations/run4_stallstrengthfits_5primepreterm.tsv'),\n",
    "    ('--background-preterm-rate','../processeddata/simulations/run4_stallstrengthfits_selpreterm.tsv'),\n",
    "    ('--selective-preterm-rate','../processeddata/simulations/run4_stallstrengthfits_selpreterm.tsv'),\n",
    "        ]\n",
    "\n",
    "for mrnafile in mrnafiles:\n",
    "    for typeOfTermination, stallstrengthfile in terminationandStallStrengths:\n",
    "        for terminationRate in [0] + list(10.0**np.arange(-2,1.01,0.05)):\n",
    "            currentindex += 1\n",
    "            if currentindex != jobindex:\n",
    "                continue\n",
    "            cmd = ' '.join([\n",
    "                    './reporter_simulation',\n",
    "                    '--trna-concn', '../annotations/simulations/leucine.starvation.average.trna.concentrations.tsv',\n",
    "                    typeOfTermination, \n",
    "                        '%0.4g'%terminationRate,\n",
    "                    '--threshold-accommodation-rate', '22',\n",
    "                '--output-prefix','../rawdata/simulations/run9/',\n",
    "                    '--stall-strength-file', stallstrengthfile,\n",
    "                    '--input-genes', mrnafile\n",
    "                    ])\n",
    "            sp.check_output(cmd, shell=True)  "
   ]
  },
  {
   "cell_type": "code",
   "execution_count": 1,
   "metadata": {
    "collapsed": false,
    "deletable": true,
    "editable": true
   },
   "outputs": [],
   "source": [
    "import subprocess as sp\n",
    "# loop submits each simulation to a different node of the cluster\n",
    "for index in range(200):\n",
    "    sp.check_output([\n",
    "        'sbatch', # for SLURM cluster; this line can be commented out if running locally\n",
    "        '-t', '20', # for SLURM cluster; this line can be commented out if running locally\n",
    "        '-n', '1', # for SLURM cluster; this line can be commented out if running locally\n",
    "        'simulation_run_9.py',\n",
    "        str(index)\n",
    "    ])"
   ]
  },
  {
   "cell_type": "markdown",
   "metadata": {},
   "source": [
    "### Run 11: Predict YFP synthesis rate of CTA distance mutants based on fit of stall strengths to single mutant data (for Fig. 6)"
   ]
  },
  {
   "cell_type": "code",
   "execution_count": 31,
   "metadata": {
    "collapsed": false
   },
   "outputs": [
    {
     "name": "stdout",
     "output_type": "stream",
     "text": [
      "Overwriting simulation_run_11.py\n"
     ]
    }
   ],
   "source": [
    "%%writefile simulation_run_11.py\n",
    "#!/usr/bin/env python\n",
    "#SBATCH --mem=8000\n",
    "\n",
    "import subprocess as sp\n",
    "import os\n",
    "import sys\n",
    "\n",
    "jobindex = int(sys.argv[1])\n",
    "currentindex = -1\n",
    "\n",
    "mrnafiles = list(filter(lambda x: x.startswith('yfp'), os.listdir('../annotations/simulations/run11/')))\n",
    "mrnafiles = ['../annotations/simulations/run11/' + File for File in mrnafiles]\n",
    "\n",
    "terminationandStallStrengths = [\n",
    "    ('--5prime-preterm-rate',0,'../processeddata/simulations/run11_stallstrengthfits_trafficjam.tsv'),\n",
    "    ('--5prime-preterm-rate',1,'../processeddata/simulations/run11_stallstrengthfits_5primepreterm.tsv'),\n",
    "    ('--selective-preterm-rate',1,'../processeddata/simulations/run11_stallstrengthfits_selpreterm.tsv'),\n",
    "        ]\n",
    "\n",
    "for mrnafile in mrnafiles:\n",
    "    currentindex += 1\n",
    "    if currentindex != jobindex:\n",
    "        continue\n",
    "    for typeOfTermination, terminationRate, stallstrengthfile in terminationandStallStrengths:\n",
    "        cmd = ' '.join([\n",
    "                './reporter_simulation',\n",
    "                '--trna-concn', '../annotations/simulations/leucine.starvation.average.trna.concentrations.tsv',            \n",
    "                typeOfTermination, \n",
    "                    '%0.2g'%terminationRate,\n",
    "                '--threshold-accommodation-rate', '22',\n",
    "                '--output-prefix','../rawdata/simulations/run11/',\n",
    "                '--stall-strength-file', stallstrengthfile,\n",
    "                '--input-genes', mrnafile\n",
    "                ])\n",
    "        sp.check_output(cmd, shell=True)  "
   ]
  },
  {
   "cell_type": "code",
   "execution_count": 32,
   "metadata": {
    "collapsed": true
   },
   "outputs": [],
   "source": [
    "import subprocess as sp\n",
    "# loop submits each simulation to a different node of the cluster\n",
    "for index in range(20):\n",
    "    sp.check_output([\n",
    "        'sbatch', # for SLURM cluster; this line can be commented out if running locally\n",
    "        '-t', '30', # for SLURM cluster; this line can be commented out if running locally\n",
    "        '-n', '1', # for SLURM cluster; this line can be commented out if running locally\n",
    "        'simulation_run_11.py',\n",
    "        str(index)\n",
    "    ])"
   ]
  }
 ],
 "metadata": {
  "kernelspec": {
   "display_name": "Python 2",
   "language": "python",
   "name": "python2"
  },
  "language_info": {
   "codemirror_mode": {
    "name": "ipython",
    "version": 2
   },
   "file_extension": ".py",
   "mimetype": "text/x-python",
   "name": "python",
   "nbconvert_exporter": "python",
   "pygments_lexer": "ipython2",
   "version": "2.7.6"
  }
 },
 "nbformat": 4,
 "nbformat_minor": 0
}
